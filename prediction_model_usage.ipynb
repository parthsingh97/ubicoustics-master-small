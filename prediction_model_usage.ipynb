{
 "cells": [
  {
   "cell_type": "code",
   "execution_count": 1,
   "metadata": {},
   "outputs": [
    {
     "name": "stderr",
     "output_type": "stream",
     "text": [
      "Using TensorFlow backend.\n",
      "C:\\Users\\parth\\anaconda3\\envs\\ubicoustics\\lib\\site-packages\\keras\\models.py:318: UserWarning: Error in loading the saved optimizer state. As a result, your model is starting with a freshly initialized optimizer.\n",
      "  warnings.warn('Error in loading the saved optimizer '\n"
     ]
    }
   ],
   "source": [
    "from scipy.io import wavfile\n",
    "from prediction_module import predict_wav"
   ]
  },
  {
   "cell_type": "code",
   "execution_count": 2,
   "metadata": {},
   "outputs": [
    {
     "name": "stderr",
     "output_type": "stream",
     "text": [
      "C:\\Users\\parth\\anaconda3\\envs\\ubicoustics\\lib\\site-packages\\ipykernel_launcher.py:1: WavFileWarning: Chunk (non-data) not understood, skipping it.\n",
      "  \"\"\"Entry point for launching an IPython kernel.\n"
     ]
    },
    {
     "name": "stdout",
     "output_type": "stream",
     "text": [
      "[['Coughing', 1.0], ['Coughing', 0.9999722], ['Coughing', 0.9982481], ['Coughing', 0.9999887], ['Coughing', 0.99977094], ['Toilet Flushing', 1.0], ['Toilet Flushing', 1.0], ['Toilet Flushing', 1.0], ['Water Running', 0.99865097], ['Water Running', 0.9999087], ['Water Running', 0.99999833], ['Water Running', 0.9994715], ['Water Running', 0.99999034], ['Water Running', 0.9999994], ['Water Running', 0.9999937], ['Water Running', 0.9999968], ['Knocking', 0.99953187], ['Knocking', 0.98939604], ['Knocking', 0.9062936]]\n"
     ]
    }
   ],
   "source": [
    "sr, wav_data = wavfile.read('example.wav')\n",
    "\n",
    "out = predict_wav(wav_data, sr)\n",
    "\n",
    "print(out)\n"
   ]
  },
  {
   "cell_type": "code",
   "execution_count": null,
   "metadata": {},
   "outputs": [],
   "source": []
  }
 ],
 "metadata": {
  "kernelspec": {
   "display_name": "Python 3",
   "language": "python",
   "name": "python3"
  },
  "language_info": {
   "codemirror_mode": {
    "name": "ipython",
    "version": 3
   },
   "file_extension": ".py",
   "mimetype": "text/x-python",
   "name": "python",
   "nbconvert_exporter": "python",
   "pygments_lexer": "ipython3",
   "version": "3.6.10"
  }
 },
 "nbformat": 4,
 "nbformat_minor": 4
}
